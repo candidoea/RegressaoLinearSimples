{
 "cells": [
  {
   "cell_type": "code",
   "execution_count": 25,
   "id": "f944dc15",
   "metadata": {},
   "outputs": [],
   "source": [
    "#importação das bibliotecas a serem usadas\n",
    "\n",
    "import pandas as pd\n",
    "import numpy as np"
   ]
  },
  {
   "cell_type": "code",
   "execution_count": 26,
   "id": "9e7b98da",
   "metadata": {},
   "outputs": [
    {
     "data": {
      "text/html": [
       "<div>\n",
       "<style scoped>\n",
       "    .dataframe tbody tr th:only-of-type {\n",
       "        vertical-align: middle;\n",
       "    }\n",
       "\n",
       "    .dataframe tbody tr th {\n",
       "        vertical-align: top;\n",
       "    }\n",
       "\n",
       "    .dataframe thead th {\n",
       "        text-align: right;\n",
       "    }\n",
       "</style>\n",
       "<table border=\"1\" class=\"dataframe\">\n",
       "  <thead>\n",
       "    <tr style=\"text-align: right;\">\n",
       "      <th></th>\n",
       "      <th>Sexo</th>\n",
       "      <th>Grupo</th>\n",
       "      <th>Head Size</th>\n",
       "      <th>Brain Weight</th>\n",
       "    </tr>\n",
       "  </thead>\n",
       "  <tbody>\n",
       "    <tr>\n",
       "      <th>0</th>\n",
       "      <td>1</td>\n",
       "      <td>1</td>\n",
       "      <td>4512</td>\n",
       "      <td>1530</td>\n",
       "    </tr>\n",
       "    <tr>\n",
       "      <th>1</th>\n",
       "      <td>1</td>\n",
       "      <td>1</td>\n",
       "      <td>3738</td>\n",
       "      <td>1297</td>\n",
       "    </tr>\n",
       "    <tr>\n",
       "      <th>2</th>\n",
       "      <td>1</td>\n",
       "      <td>1</td>\n",
       "      <td>4261</td>\n",
       "      <td>1335</td>\n",
       "    </tr>\n",
       "    <tr>\n",
       "      <th>3</th>\n",
       "      <td>1</td>\n",
       "      <td>1</td>\n",
       "      <td>3777</td>\n",
       "      <td>1282</td>\n",
       "    </tr>\n",
       "    <tr>\n",
       "      <th>4</th>\n",
       "      <td>1</td>\n",
       "      <td>1</td>\n",
       "      <td>4177</td>\n",
       "      <td>1590</td>\n",
       "    </tr>\n",
       "  </tbody>\n",
       "</table>\n",
       "</div>"
      ],
      "text/plain": [
       "   Sexo  Grupo  Head Size  Brain Weight\n",
       "0     1      1       4512          1530\n",
       "1     1      1       3738          1297\n",
       "2     1      1       4261          1335\n",
       "3     1      1       3777          1282\n",
       "4     1      1       4177          1590"
      ]
     },
     "execution_count": 26,
     "metadata": {},
     "output_type": "execute_result"
    }
   ],
   "source": [
    "#leitura do dataset\n",
    "\n",
    "df = pd.read_csv('dados/pesos2.csv')\n",
    "df.head()"
   ]
  },
  {
   "cell_type": "code",
   "execution_count": 27,
   "id": "b7f14e44",
   "metadata": {},
   "outputs": [],
   "source": [
    "#Definindo os valores das variáveis deprendente e explanatória \n",
    "\n",
    "x = df['Head Size'].values\n",
    "y = df['Brain Weight'].values"
   ]
  },
  {
   "cell_type": "code",
   "execution_count": 28,
   "id": "12a68e29",
   "metadata": {},
   "outputs": [
    {
     "name": "stdout",
     "output_type": "stream",
     "text": [
      "Coeficiente a:  325.57342104944223\n",
      "Coeficiente b:  0.26342933948939945\n"
     ]
    }
   ],
   "source": [
    "# Cálculo da média das variáveis explanatória e dependente\n",
    "x_mean = np.mean(x)\n",
    "y_mean = np.mean(y)\n",
    "\n",
    "# Número de observações no dataset\n",
    "n = len(x)\n",
    "\n",
    "# Cálculo dos coeficientes a e b usando o método dos mínimos quadrados\n",
    "numerador = 0\n",
    "denominador = 0\n",
    "\n",
    "for i in range(n): #loop percorre cada observação no dataset e atualiza numerador e denominador em cada iteração.\n",
    "    # Soma dos produtos das diferenças em relação às médias de x e y\n",
    "    numerador += (x[i] - x_mean)*(y[i] - y_mean)\n",
    "    \n",
    "    # Soma dos quadrados das diferenças em relação à média de x\n",
    "    denominador += (x[i] - x_mean)**2\n",
    "\n",
    "# Inclinação da reta de regressão (b)\n",
    "b = numerador / denominador #é a inclinação da reta de regressão, que representa a mudança na variável y para cada unidade de mudança em x.\n",
    "\n",
    "# Intercepto da reta de regressão (a)\n",
    "a = y_mean - (b * x_mean) #é o intercepto da reta de regressão, que representa o valor de y quando x é igual a zero.\n",
    "\n",
    "# Imprimir os coeficientes a e b\n",
    "print(\"Coeficiente a: \", a)\n",
    "print(\"Coeficiente b: \", b)\n"
   ]
  },
  {
   "cell_type": "code",
   "execution_count": 29,
   "id": "0fcc3a58",
   "metadata": {},
   "outputs": [
    {
     "name": "stdout",
     "output_type": "stream",
     "text": [
      "Para uma cabeça medindo  4450 cm³ provavelmente seu peso será de  1497.8339817772699 g\n"
     ]
    }
   ],
   "source": [
    "#Realizando as Previsões\n",
    "\n",
    "# equação da reta y = a + bx\n",
    "\n",
    "X = 4450 #Chute para previsão\n",
    "\n",
    "y = a + b * X\n",
    "\n",
    "print ('Para uma cabeça medindo ', X, \"cm³ provavelmente seu peso será de \", y,\"g\")"
   ]
  }
 ],
 "metadata": {
  "kernelspec": {
   "display_name": "Python 3 (ipykernel)",
   "language": "python",
   "name": "python3"
  },
  "language_info": {
   "codemirror_mode": {
    "name": "ipython",
    "version": 3
   },
   "file_extension": ".py",
   "mimetype": "text/x-python",
   "name": "python",
   "nbconvert_exporter": "python",
   "pygments_lexer": "ipython3",
   "version": "3.9.7"
  }
 },
 "nbformat": 4,
 "nbformat_minor": 5
}
